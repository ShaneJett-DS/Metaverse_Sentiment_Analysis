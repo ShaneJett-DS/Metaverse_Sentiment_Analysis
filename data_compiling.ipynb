{
 "cells": [
  {
   "cell_type": "markdown",
   "metadata": {},
   "source": [
    "# Creating Full Dataframe"
   ]
  },
  {
   "cell_type": "code",
   "execution_count": 1,
   "metadata": {},
   "outputs": [],
   "source": [
    "import pandas as pd\n",
    "import os"
   ]
  },
  {
   "cell_type": "markdown",
   "metadata": {},
   "source": [
    "### Custom Function to Concatenate all Comment Files"
   ]
  },
  {
   "cell_type": "code",
   "execution_count": 12,
   "metadata": {},
   "outputs": [],
   "source": [
    "def dataframe_compiler():\n",
    "    \"\"\" This is a basic function to loop through each excel file\n",
    "        and concatenate them into one single dataframe.  \"\"\"\n",
    "    \n",
    "    comment_df = pd.DataFrame()\n",
    "\n",
    "    for file in os.listdir(\"comment_files\"):\n",
    "        df = pd.read_csv(f\"comment_files/{file}\")\n",
    "        comment_df = pd.concat([comment_df,df], axis=0)\n",
    "\n",
    "    return comment_df"
   ]
  },
  {
   "cell_type": "markdown",
   "metadata": {},
   "source": [
    "### Create/Inspect Dataframe"
   ]
  },
  {
   "cell_type": "code",
   "execution_count": 13,
   "metadata": {},
   "outputs": [
    {
     "data": {
      "text/html": [
       "<div>\n",
       "<style scoped>\n",
       "    .dataframe tbody tr th:only-of-type {\n",
       "        vertical-align: middle;\n",
       "    }\n",
       "\n",
       "    .dataframe tbody tr th {\n",
       "        vertical-align: top;\n",
       "    }\n",
       "\n",
       "    .dataframe thead th {\n",
       "        text-align: right;\n",
       "    }\n",
       "</style>\n",
       "<table border=\"1\" class=\"dataframe\">\n",
       "  <thead>\n",
       "    <tr style=\"text-align: right;\">\n",
       "      <th></th>\n",
       "      <th>Unnamed: 0</th>\n",
       "      <th>published_At</th>\n",
       "      <th>updated_At</th>\n",
       "      <th>author_DisplayName</th>\n",
       "      <th>text_Original</th>\n",
       "      <th>text_Display</th>\n",
       "      <th>viewer_Rating</th>\n",
       "      <th>like_Count</th>\n",
       "      <th>author_Channel_Id</th>\n",
       "    </tr>\n",
       "  </thead>\n",
       "  <tbody>\n",
       "    <tr>\n",
       "      <th>0</th>\n",
       "      <td>0</td>\n",
       "      <td>2023-09-28T17:05:17Z</td>\n",
       "      <td>2023-09-28T17:14:39Z</td>\n",
       "      <td>Lex Fridman</td>\n",
       "      <td>Thank you for listening ❤ Here are the timesta...</td>\n",
       "      <td>Thank you for listening ❤ Here are the timesta...</td>\n",
       "      <td>none</td>\n",
       "      <td>1802</td>\n",
       "      <td>UCSHZKyawb77ixDdsGog4iWA</td>\n",
       "    </tr>\n",
       "    <tr>\n",
       "      <th>1</th>\n",
       "      <td>1</td>\n",
       "      <td>2023-09-29T05:16:01Z</td>\n",
       "      <td>2023-09-29T05:16:01Z</td>\n",
       "      <td>Marnie Khaw</td>\n",
       "      <td>They need to capture the bio frequencies of th...</td>\n",
       "      <td>They need to capture the bio frequencies of th...</td>\n",
       "      <td>none</td>\n",
       "      <td>0</td>\n",
       "      <td>UCh4_FQeYR0eq3fwsHp4Faew</td>\n",
       "    </tr>\n",
       "    <tr>\n",
       "      <th>2</th>\n",
       "      <td>2</td>\n",
       "      <td>2023-09-29T05:15:31Z</td>\n",
       "      <td>2023-09-29T05:15:31Z</td>\n",
       "      <td>puddles</td>\n",
       "      <td>what a privacy nightmare. imagine doxing yours...</td>\n",
       "      <td>what a privacy nightmare. imagine doxing yours...</td>\n",
       "      <td>none</td>\n",
       "      <td>0</td>\n",
       "      <td>UCMXbKsFH5gkiCpo1_bgQXAg</td>\n",
       "    </tr>\n",
       "    <tr>\n",
       "      <th>3</th>\n",
       "      <td>3</td>\n",
       "      <td>2023-09-29T05:15:20Z</td>\n",
       "      <td>2023-09-29T05:15:20Z</td>\n",
       "      <td>Dean I</td>\n",
       "      <td>This is ultimately what Neuralink is ie: blend...</td>\n",
       "      <td>This is ultimately what Neuralink is ie: blend...</td>\n",
       "      <td>none</td>\n",
       "      <td>0</td>\n",
       "      <td>UCBVsn9CZu8c_N6Kr3bvLMYg</td>\n",
       "    </tr>\n",
       "    <tr>\n",
       "      <th>4</th>\n",
       "      <td>4</td>\n",
       "      <td>2023-09-29T05:15:08Z</td>\n",
       "      <td>2023-09-29T05:15:08Z</td>\n",
       "      <td>TheSadilek</td>\n",
       "      <td>It feels like I'm watching real people even th...</td>\n",
       "      <td>It feels like I&amp;#39;m watching real people eve...</td>\n",
       "      <td>none</td>\n",
       "      <td>0</td>\n",
       "      <td>UCNqLo2tmFfteO7I-GDQjjzA</td>\n",
       "    </tr>\n",
       "  </tbody>\n",
       "</table>\n",
       "</div>"
      ],
      "text/plain": [
       "   Unnamed: 0          published_At            updated_At author_DisplayName  \\\n",
       "0           0  2023-09-28T17:05:17Z  2023-09-28T17:14:39Z        Lex Fridman   \n",
       "1           1  2023-09-29T05:16:01Z  2023-09-29T05:16:01Z        Marnie Khaw   \n",
       "2           2  2023-09-29T05:15:31Z  2023-09-29T05:15:31Z            puddles   \n",
       "3           3  2023-09-29T05:15:20Z  2023-09-29T05:15:20Z             Dean I   \n",
       "4           4  2023-09-29T05:15:08Z  2023-09-29T05:15:08Z         TheSadilek   \n",
       "\n",
       "                                       text_Original  \\\n",
       "0  Thank you for listening ❤ Here are the timesta...   \n",
       "1  They need to capture the bio frequencies of th...   \n",
       "2  what a privacy nightmare. imagine doxing yours...   \n",
       "3  This is ultimately what Neuralink is ie: blend...   \n",
       "4  It feels like I'm watching real people even th...   \n",
       "\n",
       "                                        text_Display viewer_Rating  \\\n",
       "0  Thank you for listening ❤ Here are the timesta...          none   \n",
       "1  They need to capture the bio frequencies of th...          none   \n",
       "2  what a privacy nightmare. imagine doxing yours...          none   \n",
       "3  This is ultimately what Neuralink is ie: blend...          none   \n",
       "4  It feels like I&#39;m watching real people eve...          none   \n",
       "\n",
       "   like_Count         author_Channel_Id  \n",
       "0        1802  UCSHZKyawb77ixDdsGog4iWA  \n",
       "1           0  UCh4_FQeYR0eq3fwsHp4Faew  \n",
       "2           0  UCMXbKsFH5gkiCpo1_bgQXAg  \n",
       "3           0  UCBVsn9CZu8c_N6Kr3bvLMYg  \n",
       "4           0  UCNqLo2tmFfteO7I-GDQjjzA  "
      ]
     },
     "execution_count": 13,
     "metadata": {},
     "output_type": "execute_result"
    }
   ],
   "source": [
    "comment_df = dataframe_compiler()\n",
    "\n",
    "comment_df.head()"
   ]
  },
  {
   "cell_type": "code",
   "execution_count": 14,
   "metadata": {},
   "outputs": [
    {
     "name": "stdout",
     "output_type": "stream",
     "text": [
      "<class 'pandas.core.frame.DataFrame'>\n",
      "Index: 5723 entries, 0 to 99\n",
      "Data columns (total 9 columns):\n",
      " #   Column              Non-Null Count  Dtype \n",
      "---  ------              --------------  ----- \n",
      " 0   Unnamed: 0          5723 non-null   int64 \n",
      " 1   published_At        5723 non-null   object\n",
      " 2   updated_At          5723 non-null   object\n",
      " 3   author_DisplayName  5723 non-null   object\n",
      " 4   text_Original       5722 non-null   object\n",
      " 5   text_Display        5723 non-null   object\n",
      " 6   viewer_Rating       5723 non-null   object\n",
      " 7   like_Count          5723 non-null   int64 \n",
      " 8   author_Channel_Id   5723 non-null   object\n",
      "dtypes: int64(2), object(7)\n",
      "memory usage: 447.1+ KB\n"
     ]
    }
   ],
   "source": [
    "comment_df.info()"
   ]
  },
  {
   "cell_type": "markdown",
   "metadata": {},
   "source": [
    "#### Check for Duplicates"
   ]
  },
  {
   "cell_type": "code",
   "execution_count": 15,
   "metadata": {},
   "outputs": [
    {
     "data": {
      "text/plain": [
       "(5723, 9)"
      ]
     },
     "execution_count": 15,
     "metadata": {},
     "output_type": "execute_result"
    }
   ],
   "source": [
    "comment_df.drop_duplicates().shape"
   ]
  },
  {
   "cell_type": "markdown",
   "metadata": {},
   "source": [
    "### Drop Unneccessary Columns"
   ]
  },
  {
   "cell_type": "code",
   "execution_count": 16,
   "metadata": {},
   "outputs": [
    {
     "data": {
      "text/plain": [
       "viewer_Rating\n",
       "none    5723\n",
       "Name: count, dtype: int64"
      ]
     },
     "execution_count": 16,
     "metadata": {},
     "output_type": "execute_result"
    }
   ],
   "source": [
    "comment_df.viewer_Rating.value_counts()"
   ]
  },
  {
   "cell_type": "code",
   "execution_count": 17,
   "metadata": {},
   "outputs": [
    {
     "data": {
      "text/html": [
       "<div>\n",
       "<style scoped>\n",
       "    .dataframe tbody tr th:only-of-type {\n",
       "        vertical-align: middle;\n",
       "    }\n",
       "\n",
       "    .dataframe tbody tr th {\n",
       "        vertical-align: top;\n",
       "    }\n",
       "\n",
       "    .dataframe thead th {\n",
       "        text-align: right;\n",
       "    }\n",
       "</style>\n",
       "<table border=\"1\" class=\"dataframe\">\n",
       "  <thead>\n",
       "    <tr style=\"text-align: right;\">\n",
       "      <th></th>\n",
       "      <th>published_At</th>\n",
       "      <th>updated_At</th>\n",
       "      <th>author_DisplayName</th>\n",
       "      <th>text_Original</th>\n",
       "      <th>text_Display</th>\n",
       "      <th>like_Count</th>\n",
       "      <th>author_Channel_Id</th>\n",
       "    </tr>\n",
       "  </thead>\n",
       "  <tbody>\n",
       "    <tr>\n",
       "      <th>0</th>\n",
       "      <td>2023-09-28T17:05:17Z</td>\n",
       "      <td>2023-09-28T17:14:39Z</td>\n",
       "      <td>Lex Fridman</td>\n",
       "      <td>Thank you for listening ❤ Here are the timesta...</td>\n",
       "      <td>Thank you for listening ❤ Here are the timesta...</td>\n",
       "      <td>1802</td>\n",
       "      <td>UCSHZKyawb77ixDdsGog4iWA</td>\n",
       "    </tr>\n",
       "    <tr>\n",
       "      <th>1</th>\n",
       "      <td>2023-09-29T05:16:01Z</td>\n",
       "      <td>2023-09-29T05:16:01Z</td>\n",
       "      <td>Marnie Khaw</td>\n",
       "      <td>They need to capture the bio frequencies of th...</td>\n",
       "      <td>They need to capture the bio frequencies of th...</td>\n",
       "      <td>0</td>\n",
       "      <td>UCh4_FQeYR0eq3fwsHp4Faew</td>\n",
       "    </tr>\n",
       "    <tr>\n",
       "      <th>2</th>\n",
       "      <td>2023-09-29T05:15:31Z</td>\n",
       "      <td>2023-09-29T05:15:31Z</td>\n",
       "      <td>puddles</td>\n",
       "      <td>what a privacy nightmare. imagine doxing yours...</td>\n",
       "      <td>what a privacy nightmare. imagine doxing yours...</td>\n",
       "      <td>0</td>\n",
       "      <td>UCMXbKsFH5gkiCpo1_bgQXAg</td>\n",
       "    </tr>\n",
       "    <tr>\n",
       "      <th>3</th>\n",
       "      <td>2023-09-29T05:15:20Z</td>\n",
       "      <td>2023-09-29T05:15:20Z</td>\n",
       "      <td>Dean I</td>\n",
       "      <td>This is ultimately what Neuralink is ie: blend...</td>\n",
       "      <td>This is ultimately what Neuralink is ie: blend...</td>\n",
       "      <td>0</td>\n",
       "      <td>UCBVsn9CZu8c_N6Kr3bvLMYg</td>\n",
       "    </tr>\n",
       "    <tr>\n",
       "      <th>4</th>\n",
       "      <td>2023-09-29T05:15:08Z</td>\n",
       "      <td>2023-09-29T05:15:08Z</td>\n",
       "      <td>TheSadilek</td>\n",
       "      <td>It feels like I'm watching real people even th...</td>\n",
       "      <td>It feels like I&amp;#39;m watching real people eve...</td>\n",
       "      <td>0</td>\n",
       "      <td>UCNqLo2tmFfteO7I-GDQjjzA</td>\n",
       "    </tr>\n",
       "  </tbody>\n",
       "</table>\n",
       "</div>"
      ],
      "text/plain": [
       "           published_At            updated_At author_DisplayName  \\\n",
       "0  2023-09-28T17:05:17Z  2023-09-28T17:14:39Z        Lex Fridman   \n",
       "1  2023-09-29T05:16:01Z  2023-09-29T05:16:01Z        Marnie Khaw   \n",
       "2  2023-09-29T05:15:31Z  2023-09-29T05:15:31Z            puddles   \n",
       "3  2023-09-29T05:15:20Z  2023-09-29T05:15:20Z             Dean I   \n",
       "4  2023-09-29T05:15:08Z  2023-09-29T05:15:08Z         TheSadilek   \n",
       "\n",
       "                                       text_Original  \\\n",
       "0  Thank you for listening ❤ Here are the timesta...   \n",
       "1  They need to capture the bio frequencies of th...   \n",
       "2  what a privacy nightmare. imagine doxing yours...   \n",
       "3  This is ultimately what Neuralink is ie: blend...   \n",
       "4  It feels like I'm watching real people even th...   \n",
       "\n",
       "                                        text_Display  like_Count  \\\n",
       "0  Thank you for listening ❤ Here are the timesta...        1802   \n",
       "1  They need to capture the bio frequencies of th...           0   \n",
       "2  what a privacy nightmare. imagine doxing yours...           0   \n",
       "3  This is ultimately what Neuralink is ie: blend...           0   \n",
       "4  It feels like I&#39;m watching real people eve...           0   \n",
       "\n",
       "          author_Channel_Id  \n",
       "0  UCSHZKyawb77ixDdsGog4iWA  \n",
       "1  UCh4_FQeYR0eq3fwsHp4Faew  \n",
       "2  UCMXbKsFH5gkiCpo1_bgQXAg  \n",
       "3  UCBVsn9CZu8c_N6Kr3bvLMYg  \n",
       "4  UCNqLo2tmFfteO7I-GDQjjzA  "
      ]
     },
     "execution_count": 17,
     "metadata": {},
     "output_type": "execute_result"
    }
   ],
   "source": [
    "comment_df = comment_df.drop([\"Unnamed: 0\",\"viewer_Rating\"], axis=1)\n",
    "comment_df.head()"
   ]
  },
  {
   "cell_type": "markdown",
   "metadata": {},
   "source": [
    "## Export Raw Dataframe to a CSV file"
   ]
  },
  {
   "cell_type": "code",
   "execution_count": 20,
   "metadata": {},
   "outputs": [],
   "source": [
    "comment_df.to_csv(\"raw_dataframe.csv\", index=False)"
   ]
  }
 ],
 "metadata": {
  "kernelspec": {
   "display_name": "minimal_ds",
   "language": "python",
   "name": "python3"
  },
  "language_info": {
   "codemirror_mode": {
    "name": "ipython",
    "version": 3
   },
   "file_extension": ".py",
   "mimetype": "text/x-python",
   "name": "python",
   "nbconvert_exporter": "python",
   "pygments_lexer": "ipython3",
   "version": "3.9.7"
  }
 },
 "nbformat": 4,
 "nbformat_minor": 2
}
