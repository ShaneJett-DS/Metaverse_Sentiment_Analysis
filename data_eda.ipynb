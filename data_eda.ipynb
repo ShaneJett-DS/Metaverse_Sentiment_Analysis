{
 "cells": [
  {
   "cell_type": "code",
   "execution_count": 2,
   "metadata": {},
   "outputs": [],
   "source": [
    "import pandas as pd"
   ]
  },
  {
   "cell_type": "code",
   "execution_count": 3,
   "metadata": {},
   "outputs": [
    {
     "data": {
      "text/html": [
       "<div>\n",
       "<style scoped>\n",
       "    .dataframe tbody tr th:only-of-type {\n",
       "        vertical-align: middle;\n",
       "    }\n",
       "\n",
       "    .dataframe tbody tr th {\n",
       "        vertical-align: top;\n",
       "    }\n",
       "\n",
       "    .dataframe thead th {\n",
       "        text-align: right;\n",
       "    }\n",
       "</style>\n",
       "<table border=\"1\" class=\"dataframe\">\n",
       "  <thead>\n",
       "    <tr style=\"text-align: right;\">\n",
       "      <th></th>\n",
       "      <th>Unnamed: 0</th>\n",
       "      <th>published_At</th>\n",
       "      <th>updated_At</th>\n",
       "      <th>author_DisplayName</th>\n",
       "      <th>text_Original</th>\n",
       "      <th>text_Display</th>\n",
       "      <th>viewer_Rating</th>\n",
       "      <th>like_Count</th>\n",
       "      <th>author_Channel_Id</th>\n",
       "    </tr>\n",
       "  </thead>\n",
       "  <tbody>\n",
       "    <tr>\n",
       "      <th>0</th>\n",
       "      <td>0</td>\n",
       "      <td>2023-09-28T17:05:17Z</td>\n",
       "      <td>2023-09-28T17:14:39Z</td>\n",
       "      <td>Lex Fridman</td>\n",
       "      <td>Thank you for listening ❤ Here are the timesta...</td>\n",
       "      <td>Thank you for listening ❤ Here are the timesta...</td>\n",
       "      <td>none</td>\n",
       "      <td>1802</td>\n",
       "      <td>UCSHZKyawb77ixDdsGog4iWA</td>\n",
       "    </tr>\n",
       "    <tr>\n",
       "      <th>1</th>\n",
       "      <td>1</td>\n",
       "      <td>2023-09-29T05:16:01Z</td>\n",
       "      <td>2023-09-29T05:16:01Z</td>\n",
       "      <td>Marnie Khaw</td>\n",
       "      <td>They need to capture the bio frequencies of th...</td>\n",
       "      <td>They need to capture the bio frequencies of th...</td>\n",
       "      <td>none</td>\n",
       "      <td>0</td>\n",
       "      <td>UCh4_FQeYR0eq3fwsHp4Faew</td>\n",
       "    </tr>\n",
       "    <tr>\n",
       "      <th>2</th>\n",
       "      <td>2</td>\n",
       "      <td>2023-09-29T05:15:31Z</td>\n",
       "      <td>2023-09-29T05:15:31Z</td>\n",
       "      <td>puddles</td>\n",
       "      <td>what a privacy nightmare. imagine doxing yours...</td>\n",
       "      <td>what a privacy nightmare. imagine doxing yours...</td>\n",
       "      <td>none</td>\n",
       "      <td>0</td>\n",
       "      <td>UCMXbKsFH5gkiCpo1_bgQXAg</td>\n",
       "    </tr>\n",
       "    <tr>\n",
       "      <th>3</th>\n",
       "      <td>3</td>\n",
       "      <td>2023-09-29T05:15:20Z</td>\n",
       "      <td>2023-09-29T05:15:20Z</td>\n",
       "      <td>Dean I</td>\n",
       "      <td>This is ultimately what Neuralink is ie: blend...</td>\n",
       "      <td>This is ultimately what Neuralink is ie: blend...</td>\n",
       "      <td>none</td>\n",
       "      <td>0</td>\n",
       "      <td>UCBVsn9CZu8c_N6Kr3bvLMYg</td>\n",
       "    </tr>\n",
       "    <tr>\n",
       "      <th>4</th>\n",
       "      <td>4</td>\n",
       "      <td>2023-09-29T05:15:08Z</td>\n",
       "      <td>2023-09-29T05:15:08Z</td>\n",
       "      <td>TheSadilek</td>\n",
       "      <td>It feels like I'm watching real people even th...</td>\n",
       "      <td>It feels like I&amp;#39;m watching real people eve...</td>\n",
       "      <td>none</td>\n",
       "      <td>0</td>\n",
       "      <td>UCNqLo2tmFfteO7I-GDQjjzA</td>\n",
       "    </tr>\n",
       "    <tr>\n",
       "      <th>...</th>\n",
       "      <td>...</td>\n",
       "      <td>...</td>\n",
       "      <td>...</td>\n",
       "      <td>...</td>\n",
       "      <td>...</td>\n",
       "      <td>...</td>\n",
       "      <td>...</td>\n",
       "      <td>...</td>\n",
       "      <td>...</td>\n",
       "    </tr>\n",
       "    <tr>\n",
       "      <th>95</th>\n",
       "      <td>95</td>\n",
       "      <td>2023-09-29T04:38:26Z</td>\n",
       "      <td>2023-09-29T04:38:26Z</td>\n",
       "      <td>Andrej M</td>\n",
       "      <td>Wants to know how expressive new meta tech is;...</td>\n",
       "      <td>Wants to know how expressive new meta tech is;...</td>\n",
       "      <td>none</td>\n",
       "      <td>0</td>\n",
       "      <td>UCCpXE57M9PbYse3N1uZ7fsA</td>\n",
       "    </tr>\n",
       "    <tr>\n",
       "      <th>96</th>\n",
       "      <td>96</td>\n",
       "      <td>2023-09-29T04:38:13Z</td>\n",
       "      <td>2023-09-29T04:38:13Z</td>\n",
       "      <td>Josh Who</td>\n",
       "      <td>Looks amazing</td>\n",
       "      <td>Looks amazing</td>\n",
       "      <td>none</td>\n",
       "      <td>0</td>\n",
       "      <td>UCdj9bsK1x02WlNFI3wCUehQ</td>\n",
       "    </tr>\n",
       "    <tr>\n",
       "      <th>97</th>\n",
       "      <td>97</td>\n",
       "      <td>2023-09-29T04:37:22Z</td>\n",
       "      <td>2023-09-29T04:37:22Z</td>\n",
       "      <td>Shaun-Paul L</td>\n",
       "      <td>Ready Player One</td>\n",
       "      <td>Ready Player One</td>\n",
       "      <td>none</td>\n",
       "      <td>0</td>\n",
       "      <td>UCwPh6gT--EjBxYpVlc0hKIg</td>\n",
       "    </tr>\n",
       "    <tr>\n",
       "      <th>98</th>\n",
       "      <td>98</td>\n",
       "      <td>2023-09-29T04:36:26Z</td>\n",
       "      <td>2023-09-29T04:36:26Z</td>\n",
       "      <td>Ryan Mix</td>\n",
       "      <td>This is insane.</td>\n",
       "      <td>This is insane.</td>\n",
       "      <td>none</td>\n",
       "      <td>0</td>\n",
       "      <td>UCyCEl_EZElvKDjUFeNOU3mA</td>\n",
       "    </tr>\n",
       "    <tr>\n",
       "      <th>99</th>\n",
       "      <td>99</td>\n",
       "      <td>2023-09-29T04:36:03Z</td>\n",
       "      <td>2023-09-29T04:36:03Z</td>\n",
       "      <td>Dax</td>\n",
       "      <td>Lex that's all I can say about this video is... 😮</td>\n",
       "      <td>Lex that&amp;#39;s all I can say about this video ...</td>\n",
       "      <td>none</td>\n",
       "      <td>0</td>\n",
       "      <td>UCeI5lxpRbY0UMQwg3rifGdw</td>\n",
       "    </tr>\n",
       "  </tbody>\n",
       "</table>\n",
       "<p>100 rows × 9 columns</p>\n",
       "</div>"
      ],
      "text/plain": [
       "    Unnamed: 0          published_At            updated_At author_DisplayName  \\\n",
       "0            0  2023-09-28T17:05:17Z  2023-09-28T17:14:39Z        Lex Fridman   \n",
       "1            1  2023-09-29T05:16:01Z  2023-09-29T05:16:01Z        Marnie Khaw   \n",
       "2            2  2023-09-29T05:15:31Z  2023-09-29T05:15:31Z            puddles   \n",
       "3            3  2023-09-29T05:15:20Z  2023-09-29T05:15:20Z             Dean I   \n",
       "4            4  2023-09-29T05:15:08Z  2023-09-29T05:15:08Z         TheSadilek   \n",
       "..         ...                   ...                   ...                ...   \n",
       "95          95  2023-09-29T04:38:26Z  2023-09-29T04:38:26Z           Andrej M   \n",
       "96          96  2023-09-29T04:38:13Z  2023-09-29T04:38:13Z           Josh Who   \n",
       "97          97  2023-09-29T04:37:22Z  2023-09-29T04:37:22Z       Shaun-Paul L   \n",
       "98          98  2023-09-29T04:36:26Z  2023-09-29T04:36:26Z           Ryan Mix   \n",
       "99          99  2023-09-29T04:36:03Z  2023-09-29T04:36:03Z                Dax   \n",
       "\n",
       "                                        text_Original  \\\n",
       "0   Thank you for listening ❤ Here are the timesta...   \n",
       "1   They need to capture the bio frequencies of th...   \n",
       "2   what a privacy nightmare. imagine doxing yours...   \n",
       "3   This is ultimately what Neuralink is ie: blend...   \n",
       "4   It feels like I'm watching real people even th...   \n",
       "..                                                ...   \n",
       "95  Wants to know how expressive new meta tech is;...   \n",
       "96                                      Looks amazing   \n",
       "97                                   Ready Player One   \n",
       "98                                    This is insane.   \n",
       "99  Lex that's all I can say about this video is... 😮   \n",
       "\n",
       "                                         text_Display viewer_Rating  \\\n",
       "0   Thank you for listening ❤ Here are the timesta...          none   \n",
       "1   They need to capture the bio frequencies of th...          none   \n",
       "2   what a privacy nightmare. imagine doxing yours...          none   \n",
       "3   This is ultimately what Neuralink is ie: blend...          none   \n",
       "4   It feels like I&#39;m watching real people eve...          none   \n",
       "..                                                ...           ...   \n",
       "95  Wants to know how expressive new meta tech is;...          none   \n",
       "96                                      Looks amazing          none   \n",
       "97                                   Ready Player One          none   \n",
       "98                                    This is insane.          none   \n",
       "99  Lex that&#39;s all I can say about this video ...          none   \n",
       "\n",
       "    like_Count         author_Channel_Id  \n",
       "0         1802  UCSHZKyawb77ixDdsGog4iWA  \n",
       "1            0  UCh4_FQeYR0eq3fwsHp4Faew  \n",
       "2            0  UCMXbKsFH5gkiCpo1_bgQXAg  \n",
       "3            0  UCBVsn9CZu8c_N6Kr3bvLMYg  \n",
       "4            0  UCNqLo2tmFfteO7I-GDQjjzA  \n",
       "..         ...                       ...  \n",
       "95           0  UCCpXE57M9PbYse3N1uZ7fsA  \n",
       "96           0  UCdj9bsK1x02WlNFI3wCUehQ  \n",
       "97           0  UCwPh6gT--EjBxYpVlc0hKIg  \n",
       "98           0  UCyCEl_EZElvKDjUFeNOU3mA  \n",
       "99           0  UCeI5lxpRbY0UMQwg3rifGdw  \n",
       "\n",
       "[100 rows x 9 columns]"
      ]
     },
     "execution_count": 3,
     "metadata": {},
     "output_type": "execute_result"
    }
   ],
   "source": [
    "data1 = pd.read_csv(\"comment_files/comment_data.csv\")\n",
    "data1"
   ]
  },
  {
   "cell_type": "code",
   "execution_count": 4,
   "metadata": {},
   "outputs": [
    {
     "data": {
      "text/html": [
       "<div>\n",
       "<style scoped>\n",
       "    .dataframe tbody tr th:only-of-type {\n",
       "        vertical-align: middle;\n",
       "    }\n",
       "\n",
       "    .dataframe tbody tr th {\n",
       "        vertical-align: top;\n",
       "    }\n",
       "\n",
       "    .dataframe thead th {\n",
       "        text-align: right;\n",
       "    }\n",
       "</style>\n",
       "<table border=\"1\" class=\"dataframe\">\n",
       "  <thead>\n",
       "    <tr style=\"text-align: right;\">\n",
       "      <th></th>\n",
       "      <th>Unnamed: 0</th>\n",
       "      <th>published_At</th>\n",
       "      <th>updated_At</th>\n",
       "      <th>author_DisplayName</th>\n",
       "      <th>text_Original</th>\n",
       "      <th>text_Display</th>\n",
       "      <th>viewer_Rating</th>\n",
       "      <th>like_Count</th>\n",
       "      <th>author_Channel_Id</th>\n",
       "    </tr>\n",
       "  </thead>\n",
       "  <tbody>\n",
       "    <tr>\n",
       "      <th>0</th>\n",
       "      <td>0</td>\n",
       "      <td>2023-09-28T17:05:17Z</td>\n",
       "      <td>2023-09-28T17:14:39Z</td>\n",
       "      <td>Lex Fridman</td>\n",
       "      <td>Thank you for listening ❤ Here are the timesta...</td>\n",
       "      <td>Thank you for listening ❤ Here are the timesta...</td>\n",
       "      <td>none</td>\n",
       "      <td>1012</td>\n",
       "      <td>UCSHZKyawb77ixDdsGog4iWA</td>\n",
       "    </tr>\n",
       "    <tr>\n",
       "      <th>1</th>\n",
       "      <td>1</td>\n",
       "      <td>2023-09-29T17:04:47Z</td>\n",
       "      <td>2023-09-29T17:04:47Z</td>\n",
       "      <td>Willem Asselbergs</td>\n",
       "      <td>Fantastic Lex. Thanks to Mark also for being s...</td>\n",
       "      <td>Fantastic Lex. Thanks to Mark also for being s...</td>\n",
       "      <td>none</td>\n",
       "      <td>0</td>\n",
       "      <td>UCKRDI-o1O8M3oG627Lx1CWQ</td>\n",
       "    </tr>\n",
       "    <tr>\n",
       "      <th>2</th>\n",
       "      <td>2</td>\n",
       "      <td>2023-09-29T17:04:37Z</td>\n",
       "      <td>2023-09-29T17:04:37Z</td>\n",
       "      <td>Vuk Djukic</td>\n",
       "      <td>congrats Lex - you became an NPC :D</td>\n",
       "      <td>congrats Lex - you became an NPC :D</td>\n",
       "      <td>none</td>\n",
       "      <td>0</td>\n",
       "      <td>UC1xlfdc3HASJ4PP_4nQxpug</td>\n",
       "    </tr>\n",
       "    <tr>\n",
       "      <th>3</th>\n",
       "      <td>3</td>\n",
       "      <td>2023-09-29T17:04:33Z</td>\n",
       "      <td>2023-09-29T17:04:33Z</td>\n",
       "      <td>Kreative school</td>\n",
       "      <td>💙💚❤️🧡💜</td>\n",
       "      <td>💙💚❤️🧡💜</td>\n",
       "      <td>none</td>\n",
       "      <td>0</td>\n",
       "      <td>UCueYF2Qmhda_xxzaH6Shqdw</td>\n",
       "    </tr>\n",
       "    <tr>\n",
       "      <th>4</th>\n",
       "      <td>4</td>\n",
       "      <td>2023-09-29T17:04:18Z</td>\n",
       "      <td>2023-09-29T17:04:18Z</td>\n",
       "      <td>dudedidyouseethat</td>\n",
       "      <td>After seeing this I'm convinced we are already...</td>\n",
       "      <td>After seeing this I&amp;#39;m convinced we are alr...</td>\n",
       "      <td>none</td>\n",
       "      <td>0</td>\n",
       "      <td>UCpQSRC4T5rw364akt2HCmZw</td>\n",
       "    </tr>\n",
       "    <tr>\n",
       "      <th>...</th>\n",
       "      <td>...</td>\n",
       "      <td>...</td>\n",
       "      <td>...</td>\n",
       "      <td>...</td>\n",
       "      <td>...</td>\n",
       "      <td>...</td>\n",
       "      <td>...</td>\n",
       "      <td>...</td>\n",
       "      <td>...</td>\n",
       "    </tr>\n",
       "    <tr>\n",
       "      <th>95</th>\n",
       "      <td>95</td>\n",
       "      <td>2023-09-29T15:51:06Z</td>\n",
       "      <td>2023-09-29T15:51:06Z</td>\n",
       "      <td>Benjie Drollinger</td>\n",
       "      <td>That is pretty amazing. Can’t lie.</td>\n",
       "      <td>That is pretty amazing. Can’t lie.</td>\n",
       "      <td>none</td>\n",
       "      <td>0</td>\n",
       "      <td>UCuyh5fg0IHktVAyyhFRK4GA</td>\n",
       "    </tr>\n",
       "    <tr>\n",
       "      <th>96</th>\n",
       "      <td>96</td>\n",
       "      <td>2023-09-29T15:50:54Z</td>\n",
       "      <td>2023-09-29T15:50:54Z</td>\n",
       "      <td>Plasmus J</td>\n",
       "      <td>Metainterview : an interview about an interview</td>\n",
       "      <td>Metainterview : an interview about an interview</td>\n",
       "      <td>none</td>\n",
       "      <td>0</td>\n",
       "      <td>UCYbhN0-IyDyWQOut6qVpCbw</td>\n",
       "    </tr>\n",
       "    <tr>\n",
       "      <th>97</th>\n",
       "      <td>97</td>\n",
       "      <td>2023-09-29T15:50:35Z</td>\n",
       "      <td>2023-09-29T15:50:35Z</td>\n",
       "      <td>Suzi Seha</td>\n",
       "      <td>Funny how I could feel they were not the real ...</td>\n",
       "      <td>Funny how I could feel they were not the real ...</td>\n",
       "      <td>none</td>\n",
       "      <td>0</td>\n",
       "      <td>UCZkDyj_KbwFyoXVm8vBmHIg</td>\n",
       "    </tr>\n",
       "    <tr>\n",
       "      <th>98</th>\n",
       "      <td>98</td>\n",
       "      <td>2023-09-29T15:49:57Z</td>\n",
       "      <td>2023-09-29T15:49:57Z</td>\n",
       "      <td>lopazio</td>\n",
       "      <td>AIs with real people faces, talking among them...</td>\n",
       "      <td>AIs with real people faces, talking among them...</td>\n",
       "      <td>none</td>\n",
       "      <td>0</td>\n",
       "      <td>UCiR0L38W0CUaaKxSO35K_pg</td>\n",
       "    </tr>\n",
       "    <tr>\n",
       "      <th>99</th>\n",
       "      <td>99</td>\n",
       "      <td>2023-09-29T15:49:36Z</td>\n",
       "      <td>2023-09-29T15:49:36Z</td>\n",
       "      <td>TARRAN K TELLUS</td>\n",
       "      <td>Now we are talking</td>\n",
       "      <td>Now we are talking</td>\n",
       "      <td>none</td>\n",
       "      <td>0</td>\n",
       "      <td>UCuW_WyukkYLuUeEPBz0sx2Q</td>\n",
       "    </tr>\n",
       "  </tbody>\n",
       "</table>\n",
       "<p>100 rows × 9 columns</p>\n",
       "</div>"
      ],
      "text/plain": [
       "    Unnamed: 0          published_At            updated_At author_DisplayName  \\\n",
       "0            0  2023-09-28T17:05:17Z  2023-09-28T17:14:39Z        Lex Fridman   \n",
       "1            1  2023-09-29T17:04:47Z  2023-09-29T17:04:47Z  Willem Asselbergs   \n",
       "2            2  2023-09-29T17:04:37Z  2023-09-29T17:04:37Z         Vuk Djukic   \n",
       "3            3  2023-09-29T17:04:33Z  2023-09-29T17:04:33Z    Kreative school   \n",
       "4            4  2023-09-29T17:04:18Z  2023-09-29T17:04:18Z  dudedidyouseethat   \n",
       "..         ...                   ...                   ...                ...   \n",
       "95          95  2023-09-29T15:51:06Z  2023-09-29T15:51:06Z  Benjie Drollinger   \n",
       "96          96  2023-09-29T15:50:54Z  2023-09-29T15:50:54Z          Plasmus J   \n",
       "97          97  2023-09-29T15:50:35Z  2023-09-29T15:50:35Z          Suzi Seha   \n",
       "98          98  2023-09-29T15:49:57Z  2023-09-29T15:49:57Z            lopazio   \n",
       "99          99  2023-09-29T15:49:36Z  2023-09-29T15:49:36Z    TARRAN K TELLUS   \n",
       "\n",
       "                                        text_Original  \\\n",
       "0   Thank you for listening ❤ Here are the timesta...   \n",
       "1   Fantastic Lex. Thanks to Mark also for being s...   \n",
       "2                 congrats Lex - you became an NPC :D   \n",
       "3                                              💙💚❤️🧡💜   \n",
       "4   After seeing this I'm convinced we are already...   \n",
       "..                                                ...   \n",
       "95                 That is pretty amazing. Can’t lie.   \n",
       "96    Metainterview : an interview about an interview   \n",
       "97  Funny how I could feel they were not the real ...   \n",
       "98  AIs with real people faces, talking among them...   \n",
       "99                                 Now we are talking   \n",
       "\n",
       "                                         text_Display viewer_Rating  \\\n",
       "0   Thank you for listening ❤ Here are the timesta...          none   \n",
       "1   Fantastic Lex. Thanks to Mark also for being s...          none   \n",
       "2                 congrats Lex - you became an NPC :D          none   \n",
       "3                                              💙💚❤️🧡💜          none   \n",
       "4   After seeing this I&#39;m convinced we are alr...          none   \n",
       "..                                                ...           ...   \n",
       "95                 That is pretty amazing. Can’t lie.          none   \n",
       "96    Metainterview : an interview about an interview          none   \n",
       "97  Funny how I could feel they were not the real ...          none   \n",
       "98  AIs with real people faces, talking among them...          none   \n",
       "99                                 Now we are talking          none   \n",
       "\n",
       "    like_Count         author_Channel_Id  \n",
       "0         1012  UCSHZKyawb77ixDdsGog4iWA  \n",
       "1            0  UCKRDI-o1O8M3oG627Lx1CWQ  \n",
       "2            0  UC1xlfdc3HASJ4PP_4nQxpug  \n",
       "3            0  UCueYF2Qmhda_xxzaH6Shqdw  \n",
       "4            0  UCpQSRC4T5rw364akt2HCmZw  \n",
       "..         ...                       ...  \n",
       "95           0  UCuyh5fg0IHktVAyyhFRK4GA  \n",
       "96           0  UCYbhN0-IyDyWQOut6qVpCbw  \n",
       "97           0  UCZkDyj_KbwFyoXVm8vBmHIg  \n",
       "98           0  UCiR0L38W0CUaaKxSO35K_pg  \n",
       "99           0  UCuW_WyukkYLuUeEPBz0sx2Q  \n",
       "\n",
       "[100 rows x 9 columns]"
      ]
     },
     "execution_count": 4,
     "metadata": {},
     "output_type": "execute_result"
    }
   ],
   "source": [
    "data2 = pd.read_csv(\"comment_files/comment_data0.csv\")\n",
    "data2\n",
    "\n",
    "#data2.author_DisplayName.value_counts()"
   ]
  },
  {
   "cell_type": "markdown",
   "metadata": {},
   "source": [
    "## Full Data EDA"
   ]
  },
  {
   "cell_type": "code",
   "execution_count": 5,
   "metadata": {},
   "outputs": [
    {
     "data": {
      "text/html": [
       "<div>\n",
       "<style scoped>\n",
       "    .dataframe tbody tr th:only-of-type {\n",
       "        vertical-align: middle;\n",
       "    }\n",
       "\n",
       "    .dataframe tbody tr th {\n",
       "        vertical-align: top;\n",
       "    }\n",
       "\n",
       "    .dataframe thead th {\n",
       "        text-align: right;\n",
       "    }\n",
       "</style>\n",
       "<table border=\"1\" class=\"dataframe\">\n",
       "  <thead>\n",
       "    <tr style=\"text-align: right;\">\n",
       "      <th></th>\n",
       "      <th>published_At</th>\n",
       "      <th>updated_At</th>\n",
       "      <th>author_DisplayName</th>\n",
       "      <th>text_Original</th>\n",
       "      <th>text_Display</th>\n",
       "      <th>like_Count</th>\n",
       "      <th>author_Channel_Id</th>\n",
       "    </tr>\n",
       "  </thead>\n",
       "  <tbody>\n",
       "    <tr>\n",
       "      <th>0</th>\n",
       "      <td>2023-09-28T17:05:17Z</td>\n",
       "      <td>2023-09-28T17:14:39Z</td>\n",
       "      <td>Lex Fridman</td>\n",
       "      <td>Thank you for listening ❤ Here are the timesta...</td>\n",
       "      <td>Thank you for listening ❤ Here are the timesta...</td>\n",
       "      <td>1802</td>\n",
       "      <td>UCSHZKyawb77ixDdsGog4iWA</td>\n",
       "    </tr>\n",
       "    <tr>\n",
       "      <th>1</th>\n",
       "      <td>2023-09-29T05:16:01Z</td>\n",
       "      <td>2023-09-29T05:16:01Z</td>\n",
       "      <td>Marnie Khaw</td>\n",
       "      <td>They need to capture the bio frequencies of th...</td>\n",
       "      <td>They need to capture the bio frequencies of th...</td>\n",
       "      <td>0</td>\n",
       "      <td>UCh4_FQeYR0eq3fwsHp4Faew</td>\n",
       "    </tr>\n",
       "    <tr>\n",
       "      <th>2</th>\n",
       "      <td>2023-09-29T05:15:31Z</td>\n",
       "      <td>2023-09-29T05:15:31Z</td>\n",
       "      <td>puddles</td>\n",
       "      <td>what a privacy nightmare. imagine doxing yours...</td>\n",
       "      <td>what a privacy nightmare. imagine doxing yours...</td>\n",
       "      <td>0</td>\n",
       "      <td>UCMXbKsFH5gkiCpo1_bgQXAg</td>\n",
       "    </tr>\n",
       "    <tr>\n",
       "      <th>3</th>\n",
       "      <td>2023-09-29T05:15:20Z</td>\n",
       "      <td>2023-09-29T05:15:20Z</td>\n",
       "      <td>Dean I</td>\n",
       "      <td>This is ultimately what Neuralink is ie: blend...</td>\n",
       "      <td>This is ultimately what Neuralink is ie: blend...</td>\n",
       "      <td>0</td>\n",
       "      <td>UCBVsn9CZu8c_N6Kr3bvLMYg</td>\n",
       "    </tr>\n",
       "    <tr>\n",
       "      <th>4</th>\n",
       "      <td>2023-09-29T05:15:08Z</td>\n",
       "      <td>2023-09-29T05:15:08Z</td>\n",
       "      <td>TheSadilek</td>\n",
       "      <td>It feels like I'm watching real people even th...</td>\n",
       "      <td>It feels like I&amp;#39;m watching real people eve...</td>\n",
       "      <td>0</td>\n",
       "      <td>UCNqLo2tmFfteO7I-GDQjjzA</td>\n",
       "    </tr>\n",
       "  </tbody>\n",
       "</table>\n",
       "</div>"
      ],
      "text/plain": [
       "           published_At            updated_At author_DisplayName  \\\n",
       "0  2023-09-28T17:05:17Z  2023-09-28T17:14:39Z        Lex Fridman   \n",
       "1  2023-09-29T05:16:01Z  2023-09-29T05:16:01Z        Marnie Khaw   \n",
       "2  2023-09-29T05:15:31Z  2023-09-29T05:15:31Z            puddles   \n",
       "3  2023-09-29T05:15:20Z  2023-09-29T05:15:20Z             Dean I   \n",
       "4  2023-09-29T05:15:08Z  2023-09-29T05:15:08Z         TheSadilek   \n",
       "\n",
       "                                       text_Original  \\\n",
       "0  Thank you for listening ❤ Here are the timesta...   \n",
       "1  They need to capture the bio frequencies of th...   \n",
       "2  what a privacy nightmare. imagine doxing yours...   \n",
       "3  This is ultimately what Neuralink is ie: blend...   \n",
       "4  It feels like I'm watching real people even th...   \n",
       "\n",
       "                                        text_Display  like_Count  \\\n",
       "0  Thank you for listening ❤ Here are the timesta...        1802   \n",
       "1  They need to capture the bio frequencies of th...           0   \n",
       "2  what a privacy nightmare. imagine doxing yours...           0   \n",
       "3  This is ultimately what Neuralink is ie: blend...           0   \n",
       "4  It feels like I&#39;m watching real people eve...           0   \n",
       "\n",
       "          author_Channel_Id  \n",
       "0  UCSHZKyawb77ixDdsGog4iWA  \n",
       "1  UCh4_FQeYR0eq3fwsHp4Faew  \n",
       "2  UCMXbKsFH5gkiCpo1_bgQXAg  \n",
       "3  UCBVsn9CZu8c_N6Kr3bvLMYg  \n",
       "4  UCNqLo2tmFfteO7I-GDQjjzA  "
      ]
     },
     "execution_count": 5,
     "metadata": {},
     "output_type": "execute_result"
    }
   ],
   "source": [
    "comments = pd.read_csv(\"comment_files/raw_dataframe.csv\")\n",
    "comments.head()"
   ]
  },
  {
   "cell_type": "markdown",
   "metadata": {},
   "source": [
    "#### Data Dimensions"
   ]
  },
  {
   "cell_type": "code",
   "execution_count": 6,
   "metadata": {},
   "outputs": [
    {
     "data": {
      "text/plain": [
       "(5723, 7)"
      ]
     },
     "execution_count": 6,
     "metadata": {},
     "output_type": "execute_result"
    }
   ],
   "source": [
    "comments.shape"
   ]
  },
  {
   "cell_type": "code",
   "execution_count": 7,
   "metadata": {},
   "outputs": [
    {
     "name": "stdout",
     "output_type": "stream",
     "text": [
      "<class 'pandas.core.frame.DataFrame'>\n",
      "RangeIndex: 5723 entries, 0 to 5722\n",
      "Data columns (total 7 columns):\n",
      " #   Column              Non-Null Count  Dtype \n",
      "---  ------              --------------  ----- \n",
      " 0   published_At        5723 non-null   object\n",
      " 1   updated_At          5723 non-null   object\n",
      " 2   author_DisplayName  5723 non-null   object\n",
      " 3   text_Original       5722 non-null   object\n",
      " 4   text_Display        5723 non-null   object\n",
      " 5   like_Count          5723 non-null   int64 \n",
      " 6   author_Channel_Id   5723 non-null   object\n",
      "dtypes: int64(1), object(6)\n",
      "memory usage: 313.1+ KB\n"
     ]
    }
   ],
   "source": [
    "comments.info()"
   ]
  },
  {
   "cell_type": "code",
   "execution_count": 8,
   "metadata": {},
   "outputs": [
    {
     "data": {
      "text/html": [
       "<div>\n",
       "<style scoped>\n",
       "    .dataframe tbody tr th:only-of-type {\n",
       "        vertical-align: middle;\n",
       "    }\n",
       "\n",
       "    .dataframe tbody tr th {\n",
       "        vertical-align: top;\n",
       "    }\n",
       "\n",
       "    .dataframe thead th {\n",
       "        text-align: right;\n",
       "    }\n",
       "</style>\n",
       "<table border=\"1\" class=\"dataframe\">\n",
       "  <thead>\n",
       "    <tr style=\"text-align: right;\">\n",
       "      <th></th>\n",
       "      <th>like_Count</th>\n",
       "    </tr>\n",
       "  </thead>\n",
       "  <tbody>\n",
       "    <tr>\n",
       "      <th>count</th>\n",
       "      <td>5723.000000</td>\n",
       "    </tr>\n",
       "    <tr>\n",
       "      <th>mean</th>\n",
       "      <td>6.279399</td>\n",
       "    </tr>\n",
       "    <tr>\n",
       "      <th>std</th>\n",
       "      <td>118.681444</td>\n",
       "    </tr>\n",
       "    <tr>\n",
       "      <th>min</th>\n",
       "      <td>0.000000</td>\n",
       "    </tr>\n",
       "    <tr>\n",
       "      <th>25%</th>\n",
       "      <td>0.000000</td>\n",
       "    </tr>\n",
       "    <tr>\n",
       "      <th>50%</th>\n",
       "      <td>0.000000</td>\n",
       "    </tr>\n",
       "    <tr>\n",
       "      <th>75%</th>\n",
       "      <td>0.000000</td>\n",
       "    </tr>\n",
       "    <tr>\n",
       "      <th>max</th>\n",
       "      <td>7390.000000</td>\n",
       "    </tr>\n",
       "  </tbody>\n",
       "</table>\n",
       "</div>"
      ],
      "text/plain": [
       "        like_Count\n",
       "count  5723.000000\n",
       "mean      6.279399\n",
       "std     118.681444\n",
       "min       0.000000\n",
       "25%       0.000000\n",
       "50%       0.000000\n",
       "75%       0.000000\n",
       "max    7390.000000"
      ]
     },
     "execution_count": 8,
     "metadata": {},
     "output_type": "execute_result"
    }
   ],
   "source": [
    "comments.describe()"
   ]
  },
  {
   "cell_type": "markdown",
   "metadata": {},
   "source": [
    "#### Longest Comments"
   ]
  },
  {
   "cell_type": "code",
   "execution_count": 48,
   "metadata": {},
   "outputs": [
    {
     "data": {
      "text/plain": [
       "4588    4163\n",
       "5683    2866\n",
       "973     2616\n",
       "3632    2539\n",
       "926     2485\n",
       "        ... \n",
       "4883       1\n",
       "2342       1\n",
       "3092       1\n",
       "4179       1\n",
       "2798       1\n",
       "Name: text_Original, Length: 5723, dtype: int64"
      ]
     },
     "execution_count": 48,
     "metadata": {},
     "output_type": "execute_result"
    }
   ],
   "source": [
    "comments[\"text_Original\"].apply(lambda x: len(str(x))).sort_values(ascending=False)"
   ]
  },
  {
   "cell_type": "markdown",
   "metadata": {},
   "source": [
    "#### Comment Example: Lex's First Comment"
   ]
  },
  {
   "cell_type": "code",
   "execution_count": 9,
   "metadata": {},
   "outputs": [
    {
     "data": {
      "text/plain": [
       "'Thank you for listening ❤ Here are the timestamps:\\r\\nTranscript: https://lexfridman.com/mark-zuckerberg-3-transcript\\r\\n0:00 - Introduction & sponsor mentions:\\r\\n0:52 - Metaverse\\r\\n15:27 - Quest 3\\r\\n30:16 - Nature of reality\\r\\n34:54 - AI in the Metaverse\\r\\n51:51 - Large language models\\r\\n57:49 - Future of humanity\\r\\n\\r\\nPlease check out our sponsors to support this podcast:\\r\\n- LMNT: https://drinkLMNT.com/lex to get free sample pack\\r\\n- InsideTracker: https://insidetracker.com/lex to get 20% off\\r\\n- Eight Sleep: https://www.eightsleep.com/lex to get special savings\\r\\n- AG1: https://drinkag1.com/lex to get 1 month supply of fish oil\\r\\n- NetSuite: http://netsuite.com/lex to get free product tour'"
      ]
     },
     "execution_count": 9,
     "metadata": {},
     "output_type": "execute_result"
    }
   ],
   "source": [
    "comments[\"text_Original\"][0]"
   ]
  },
  {
   "cell_type": "code",
   "execution_count": 10,
   "metadata": {},
   "outputs": [
    {
     "data": {
      "text/plain": [
       "'Thank you for listening ❤ Here are the timestamps:\\r<br>Transcript: <a href=\"https://lexfridman.com/mark-zuckerberg-3-transcript\">https://lexfridman.com/mark-zuckerberg-3-transcript\\r</a><br><a href=\"https://www.youtube.com/watch?v=MVYrJJNdrEg&amp;t=0m00s\">0:00</a> - Introduction &amp; sponsor mentions:\\r<br><a href=\"https://www.youtube.com/watch?v=MVYrJJNdrEg&amp;t=0m52s\">0:52</a> - Metaverse\\r<br><a href=\"https://www.youtube.com/watch?v=MVYrJJNdrEg&amp;t=15m27s\">15:27</a> - Quest 3\\r<br><a href=\"https://www.youtube.com/watch?v=MVYrJJNdrEg&amp;t=30m16s\">30:16</a> - Nature of reality\\r<br><a href=\"https://www.youtube.com/watch?v=MVYrJJNdrEg&amp;t=34m54s\">34:54</a> - AI in the Metaverse\\r<br><a href=\"https://www.youtube.com/watch?v=MVYrJJNdrEg&amp;t=51m51s\">51:51</a> - Large language models\\r<br><a href=\"https://www.youtube.com/watch?v=MVYrJJNdrEg&amp;t=57m49s\">57:49</a> - Future of humanity\\r<br>\\r<br>Please check out our sponsors to support this podcast:\\r<br>- LMNT: <a href=\"https://drinklmnt.com/lex\">https://drinkLMNT.com/lex</a> to get free sample pack\\r<br>- InsideTracker: <a href=\"https://insidetracker.com/lex\">https://insidetracker.com/lex</a> to get 20% off\\r<br>- Eight Sleep: <a href=\"https://www.eightsleep.com/lex\">https://www.eightsleep.com/lex</a> to get special savings\\r<br>- AG1: <a href=\"https://drinkag1.com/lex\">https://drinkag1.com/lex</a> to get 1 month supply of fish oil\\r<br>- NetSuite: <a href=\"http://netsuite.com/lex\">http://netsuite.com/lex</a> to get free product tour'"
      ]
     },
     "execution_count": 10,
     "metadata": {},
     "output_type": "execute_result"
    }
   ],
   "source": [
    "comments[\"text_Display\"][0]"
   ]
  },
  {
   "cell_type": "markdown",
   "metadata": {},
   "source": [
    "#### Comment Example: Second Comment (Marnie Khaw)"
   ]
  },
  {
   "cell_type": "code",
   "execution_count": 11,
   "metadata": {},
   "outputs": [
    {
     "data": {
      "text/plain": [
       "'They need to capture the bio frequencies of their bodies and transmit them too. Wait, that’s probably decades away. You can’t imitate the vibrations of every cell in the body.'"
      ]
     },
     "execution_count": 11,
     "metadata": {},
     "output_type": "execute_result"
    }
   ],
   "source": [
    "comments[\"text_Original\"][1]"
   ]
  },
  {
   "cell_type": "markdown",
   "metadata": {},
   "source": [
    "### Convert Datetime Columns"
   ]
  },
  {
   "cell_type": "code",
   "execution_count": 12,
   "metadata": {},
   "outputs": [
    {
     "data": {
      "text/plain": [
       "published_At          datetime64[ns, UTC]\n",
       "updated_At            datetime64[ns, UTC]\n",
       "author_DisplayName                 object\n",
       "text_Original                      object\n",
       "text_Display                       object\n",
       "like_Count                          int64\n",
       "author_Channel_Id                  object\n",
       "dtype: object"
      ]
     },
     "execution_count": 12,
     "metadata": {},
     "output_type": "execute_result"
    }
   ],
   "source": [
    "comments[\"published_At\"] = pd.to_datetime(comments[\"published_At\"])\n",
    "comments[\"updated_At\"] = pd.to_datetime(comments[\"updated_At\"]) \n",
    "\n",
    "comments.dtypes"
   ]
  },
  {
   "cell_type": "markdown",
   "metadata": {},
   "source": [
    "### Range of Dates:\n",
    "* 24 hours of data\n",
    "* 9/28/23 - 9/29/23"
   ]
  },
  {
   "cell_type": "code",
   "execution_count": 15,
   "metadata": {},
   "outputs": [
    {
     "name": "stdout",
     "output_type": "stream",
     "text": [
      "2023-09-28 17:05:17+00:00\n",
      "2023-09-29 17:04:47+00:00\n"
     ]
    }
   ],
   "source": [
    "print(comments.published_At.min())\n",
    "print(comments.published_At.max())"
   ]
  },
  {
   "cell_type": "code",
   "execution_count": 23,
   "metadata": {},
   "outputs": [
    {
     "data": {
      "text/plain": [
       "<Axes: xlabel='published_At'>"
      ]
     },
     "execution_count": 23,
     "metadata": {},
     "output_type": "execute_result"
    },
    {
     "data": {
      "image/png": "[encoded data removed]",
      "text/plain": [
       "<Figure size 864x504 with 1 Axes>"
      ]
     },
     "metadata": {
      "needs_background": "light"
     },
     "output_type": "display_data"
    }
   ],
   "source": [
    "comments.set_index(\"published_At\")[\"like_Count\"].plot(figsize=(12,7))"
   ]
  },
  {
   "cell_type": "code",
   "execution_count": null,
   "metadata": {},
   "outputs": [],
   "source": []
  }
 ],
 "metadata": {
  "kernelspec": {
   "display_name": "minimal_ds",
   "language": "python",
   "name": "python3"
  },
  "language_info": {
   "codemirror_mode": {
    "name": "ipython",
    "version": 3
   },
   "file_extension": ".py",
   "mimetype": "text/x-python",
   "name": "python",
   "nbconvert_exporter": "python",
   "pygments_lexer": "ipython3",
   "version": "3.9.7"
  }
 },
 "nbformat": 4,
 "nbformat_minor": 2
}
